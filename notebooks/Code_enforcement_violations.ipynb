{
 "cells": [
  {
   "cell_type": "code",
   "execution_count": 1,
   "metadata": {
    "collapsed": true,
    "deletable": true,
    "editable": true
   },
   "outputs": [],
   "source": [
    "import pandas as pd\n",
    "import matplotlib as plt\n",
    "%matplotlib inline\n",
    "plt.style.use('ggplot')"
   ]
  },
  {
   "cell_type": "code",
   "execution_count": 2,
   "metadata": {
    "collapsed": true,
    "deletable": true,
    "editable": true
   },
   "outputs": [],
   "source": [
    "# Import code enforcement violations"
   ]
  },
  {
   "cell_type": "code",
   "execution_count": 3,
   "metadata": {
    "collapsed": false,
    "deletable": true,
    "editable": true
   },
   "outputs": [],
   "source": [
    "violations = pd.read_csv('C:/Data/AnalyzeBoston/data/cepviolations.csv', dtype=object)"
   ]
  },
  {
   "cell_type": "code",
   "execution_count": 4,
   "metadata": {
    "collapsed": true,
    "deletable": true,
    "editable": true
   },
   "outputs": [],
   "source": [
    "# Convert status to date/time"
   ]
  },
  {
   "cell_type": "code",
   "execution_count": 5,
   "metadata": {
    "collapsed": false,
    "deletable": true,
    "editable": true
   },
   "outputs": [],
   "source": [
    "violations['Status_DTTM'] = pd.to_datetime(violations['Status_DTTM'], errors='coerce')"
   ]
  },
  {
   "cell_type": "code",
   "execution_count": 6,
   "metadata": {
    "collapsed": true,
    "deletable": true,
    "editable": true
   },
   "outputs": [],
   "source": [
    "# Explore the variety of records by viewing descriptions"
   ]
  },
  {
   "cell_type": "code",
   "execution_count": 7,
   "metadata": {
    "collapsed": false,
    "deletable": true,
    "editable": true
   },
   "outputs": [
    {
     "data": {
      "text/plain": [
       "array(['Failure to Obtain Permit', 'Unsafe Structure',\n",
       "       'Improper storage trash: res', 'Improper storage trash: com',\n",
       "       'Overgrown Weeds On Property', 'Graffiti on building- 2',\n",
       "       'Overfilling of barrel/dumpster', 'Occupying City prop wo permit',\n",
       "       'Smoke Alarms', 'Unregistered motor vehicles- 2',\n",
       "       'Illegal dumping < 1 cubic yd', 'Unregistered motor vehicles-1',\n",
       "       'Maintenance', 'illegal parking prop owner 2',\n",
       "       'Door operations-Egress doors', 'illegal parking prop owner 1',\n",
       "       'Right of Entry', 'Shopping Cart - 1', 'Graffiti on building- 1',\n",
       "       'Failure clean sidewalk com', 'Maint a dumpster wopermit',\n",
       "       'No use of premises permit:', 'Illegal Vending',\n",
       "       'Maintenance of Exterior', 'No Number On A Building',\n",
       "       'Large building recycling- 1', 'Failure clear sidewalk - snow',\n",
       "       'Non-Emergency Auto Repair', 'Failure clear sidewalk - snow:',\n",
       "       'Removal snow private property', 'Trash illegally dump container',\n",
       "       'Removal snow private prop', 'Removal snow non-res property',\n",
       "       'Testing&Maintenance Sprinklers', 'Unsafe and Dangerous', 'Exits',\n",
       "       'Protection of Adj. Property',\n",
       "       'Site Cleanliness license \\xe2\\x80\\x93 WAR', 'Failure To Register',\n",
       "       'Approval required', 'Fire Protection Systems',\n",
       "       'Reg. Access to Roof Areas', 'Testing & Certification',\n",
       "       'Periodic Inspections', 'IEBC', 'Approved Construction Doc.',\n",
       "       'Emergency escape and rescue', 'Posting signs wo authority',\n",
       "       'Failed to comply w PRMT Terms',\n",
       "       'Site Cleanliness license \\xe2\\x80\\x93 VIO', 'Exit Passageways',\n",
       "       'Illegal dumping 1-5 cubic yd.:', 'Failure to secure a Re-Inspect',\n",
       "       'Building or Use of Premise req', 'Acts 1956 as Amended',\n",
       "       'Use of Premises', 'Accessible Means of Egress',\n",
       "       'Maximum Height from Floor', 'Retaining Wall',\n",
       "       'Certificate of Occupancy', 'Locks and Latches', 'Guards',\n",
       "       'Elec work w/o per',\n",
       "       'Owners Installation/Maintenance Responsibility - All facilities and equipment which are required by owner including but not limited to water, gas, electrical and heating, shall be installed in accordance with all accepted codes.',\n",
       "       'Owners Responsibility to Maintain Structural Elements - Structural elements  shall be maintained free from holes, cracks, loose plaster, or other defects.',\n",
       "       'Weathertight Windows',\n",
       "       'Protective Railings and Walls - Safe handrail for every stairway',\n",
       "       'Screens for Windows - Owner shall provide screens for all windows on the first 4 floors opening directly to the outside; shall be tight fitting; shall cover opening part of window designed to open',\n",
       "       'Screens for Doors - Owner shall provide screens for all doorways opening directly to the outside from any dwelling unit or rooming unit; shall be tight fitting; equipped with self-closing device except where screen is designed to slide to the side.',\n",
       "       'Maint. of Areas Free from Garbage & Rubbish(Common Areas) - In any dwelling, the owner shall be responsible for maintaining in a clean and sanitary condition free of garbage, rubbish, filth all common areas.',\n",
       "       'Failure to secure permit', 'Illumination',\n",
       "       'Fire Protection & Life Safety', 'Security Grilles',\n",
       "       'Door Hardware', 'Exits Maintained',\n",
       "       'Sign: COB Zoning Article 11-1', 'Permits',\n",
       "       'Sinks, Toilets, Tubs, Showers - Owner shall provide a toilet, a wash basin, bathtub or shower in another room which is not used for living, sleeping, cooking or eating; room must be fitted with a door capable of being closed',\n",
       "       'Shared Facilities - Sinks, Toilets, Tubs, showers shared by more than 1 unit or 1 rooming unit shall be cleaned and sanitized once every 24 hrs by owner.',\n",
       "       'Building Identification - Owner shall to every building a # representing the address.',\n",
       "       'Extermination of Insects, Rodents and Skunks - The owner of a dwelling containing two or more dwelling units shall maintain it and its premises free from all rodents, cockroaches and insect infestation and shall be responsible for exterminating them',\n",
       "       'Door Operations', 'Emergency Exit', 'Automatic Smoke Detection',\n",
       "       'Required Inspections', 'Testing and Maintenance', 'Installation',\n",
       "       'Unlawful Continuance', 'Emergency Escape & Rescue',\n",
       "       'Approval of Documents', 'Basic Principles', 'Referenced Codes',\n",
       "       'Exit Signs', 'Submittal Documents', 'Guarding of Live parts',\n",
       "       'Covers & Canopies', 'Securing & Supporting', 'Emergency Escape',\n",
       "       'Materials (A) Min. Standards', 'Means of Egress',\n",
       "       'Failure to comply with permit', 'Final Inspection',\n",
       "       'Extermination of Insects, Rodents and Skunks - Extermination shall be accomplished by eliminating the harborage places of insects and rodents.  All use of pesticides shall be in accordance with applicable laws and regulations of the Department of Food and Agricultures Pesticide Board.',\n",
       "       'Hot Water - Facilities for providing a min. temperature of hot water at 110F , max. temperature 130F',\n",
       "       'Smoke Detectors & Carbon Monoxide Alarms - Owner shall provide, install and maintain in operable condition smoke detectors and carbon monoxide alarms',\n",
       "       'Kitchen Facilities - Owner shall provide suitable space to store, prepare and serve foods in a sanitary manner; a kitchen sink, a stove and oven, proper facilities for the use of a refrigerator; facilities shall have smooth and impervious surfaces and be free from defects.',\n",
       "       'Extermination of Insects, Rodents and Skunks - The owner of a rooming house shall maintain it and its premises free from all rodent, cockroaches, and insect infestation and shall be responsible for exterminating them ',\n",
       "       'Heating Facilities Required - Owner shall provide & maintain in good operating condition the facilities for heating every habitable room and every room containing a toilet, shower or bathtub.',\n",
       "       'Means of Egress - As many means of exit as will allow for safe passage.',\n",
       "       'Egress Obstruction - No person shall obstruct any exit or passageway.',\n",
       "       'Protective Railings and Walls - Balusters no more than 6 in. apart between required gaurdrails and open handrails.',\n",
       "       'Storage of Garbage & Rubbish-Owner of dwelling w/ 3 units or more/rooming house shall provide as many receptacles needed for garbage as are sufficient.  before final collection and be located convenient to the occ that no objectionable odors enter any dwelling',\n",
       "       'Temperature Requirements - Min. 68F between 7:00 AM and 11:00 PM; atleast 64F between 11:01 PM and 6:59 AM; Temp shall at no time exceed 78F during heating season.',\n",
       "       'Disconnecting Means', 'Exceeds terms of permit', 'POST OWNER NAME',\n",
       "       'Mass State Plumbing Code', 'Proper Maintenance', 'Working Space',\n",
       "       'Construction Safeguards', 'Notice of Violation',\n",
       "       'Decorative Material', '.', 'Table A Use Item 34A',\n",
       "       'Suspension or Revocation', 'Illegal dumping w a vehicle',\n",
       "       'Failure to Secure Permit',\n",
       "       'Maint. of Areas Free from Garbage & Rubbish(Land) - The owner of any parcel of land, vacant or otherwise, shall be responsible for maintaining such parcel of land in a clean and sanitary condition.',\n",
       "       'Room Ventilation- window or door to exterior opened to a min of 4% of floor area of that habitable room, or room containing a toilet, bathtub or shower.',\n",
       "       'Door Locks-Owner, install & maintain - Every dwelling unit able to be secured against unlawful entry.',\n",
       "       'Extermination of Insects, Rodents and Skunks - Occupant of a dwelling containing one dwelling unit shall maintain it and its premises free from all rodents, cockroaches and insect infestation and shall be responsible for exterminating them ',\n",
       "       'Door Locks-Owner, install & maintain - Every door of dwelling/rooming unit able to be secured against unlawful entry',\n",
       "       'Sinks, Toilets, Tubs, Showers (Fixtures) - Shall have a smooth and impervious surface free from defects',\n",
       "       'Window Locks-Owner, install & maintain - ALL openable ext. window shall be capable of being secured.',\n",
       "       'Weathertight Doors',\n",
       "       'Light fixtures other that in Habitable rooms or kitchen - Owner shall provide electric light switches and fixtures in good working condition.',\n",
       "       'Metering of Electricity, Gas and Water - If Owner is not required to pay electrical and gas.  The owner must install piping and meters that serve on that unit.',\n",
       "       'Light in Passageways, Hallways, Stairways - Owner shall provide light 24 hrs per day',\n",
       "       'Room Ventilation - Window or door to exterior opened to a min of 4% of fl area of that habitable room, or room with toilet, bathtub or shower.',\n",
       "       'Owners Installation/Maintenance Responsibility - All Owner-installed optional equipment',\n",
       "       'Door Locks-Owner, install & maintain - Main entry door of dwelling w/ 4+ units, close and lock automatically, elec. Operated striker and ass. equip.',\n",
       "       'Amperage - Electric service shall supply sufficient amperage to meet the reasonable needs of the occupants.',\n",
       "       'Installation fo Screens - Owner shall provide and install screens so that they shall be in place during the period between April 1 to October 30th, both inclusive, in each year.',\n",
       "       'Plumbing Connections - Kitchen sink, wash basin and shower or toilet shall be connected to hot and cold water lines, and sanitary drainage system.',\n",
       "       'Bathroom Lighting & Electrical outlets - Owner shall provide in each room containing  a toilet, bathtub, or shower, 1 electric light fixture',\n",
       "       'Smoke Detectors & Carbon Monoxide Alarms - Board of Health shall notify chief of local fire dpmt of any violations under 105 CMR 410.482',\n",
       "       'No Switch for Ventiliation - Requires switch for shut-off or volume reduction.',\n",
       "       'Mechanical Ventilation capable of exhausting air at the following rate: Habitable room other than bath, toilet or shower room- 2 air exchanges per hour. Bath, toilet or shower- 5 air exchanges per hour.',\n",
       "       'Safe Conditions - Owner shall maintain all means of egress safe and in operable condition.',\n",
       "       'Light in Passageways, Hallways, Stairways - Less than 3 units, Owner is responsible unless letting agreement is provided stating that dwelling unit is responsible for adjacent common area lighting;notify other occupants.',\n",
       "       'Occupants Responsibility Respecting Structural Elements - Occupant shall exercise reasonable care in the use of all structural elements of the dwelling.',\n",
       "       'Occupants Installation/Maintenance Responsibility - Occupant shall exercise reasonable care and proper use of all equipment.',\n",
       "       'Curtailment Prohibited - No Owner or occ. shall cause any service, equipment, utility which is required to be made available by 105 CMR410.000 to be removed from or shut off from any occupied dwelling, unless for temp. repairs or alterations and reasonable notice of curtailment of service is given.',\n",
       "       'Electric outlets-Habitable Room - 2 separate wall-type outlets; or 1 outlet and 1 electric light fixture.',\n",
       "       'Failure of Delivery Standards',\n",
       "       'Temporary Wiring - No wiring shall lie under rug or fl covering;nor extend through a doorway.',\n",
       "       'Auxiliary Emergency Lightin Systems and Exit Signs - Owner of dwelling w/ 10+ units shall provide an auxiliary emergency lighting system.',\n",
       "       'Door Locks-Owner, install & maintain - Locking devices shall compy with rqmts. of 780 CMR 1017.4.1 to avoid entrapment in the building.',\n",
       "       'Asbestos Material - Owner shall maintain all asbestos material in good repair, free from any defects.',\n",
       "       'Potable Water - Owner shall supply potable water sufficient in quantity and pressure; may not shut off or refuse service.',\n",
       "       'Conditions Deemed to Endanger or Impair Health or Safety - Failure to provide a toilet and maintain a sewage disposal system in operable condition as required by 105 CMR 410.150(A)(1) and 410.300.',\n",
       "       'Storage of Garbage & Rubbish - Garbage or mixed garbage and rubbish shall be stored in watertight receptacles with tight-fitting covers.  Said receptacles and covers shall be of metal or other durable rodent-proof material ',\n",
       "       'Protective Railings and Walls - Wall or guardrail on open side of all stairways no less than 30 in. in height',\n",
       "       'Manner of Removal', 'Stop Work Order',\n",
       "       'Fail to post management comp', 'Swimming Pools',\n",
       "       'Fire and Smoke Protection', 'Unlawful Acts', 'Unsafe Maintenance',\n",
       "       'disposal med waste', 'Electrical Work w/out a Permit',\n",
       "       'Property Maintenance', 'Inspections',\n",
       "       'Spaces about electrical equip', 'Flex cords/cables not permited',\n",
       "       'Spaces about Elect. Equip.', 'Fire Alarm and Detection',\n",
       "       'Number of Services', 'Ventilation', 'Natural Ventilation',\n",
       "       'Temporary Occupancy', 'Mechanical Execution of Work',\n",
       "       'Branch Circuit Extensions', 'Protection of conductors',\n",
       "       'Groundings', 'Openings', 'Supports', 'Secured in Place',\n",
       "       'Transporting refuse without pe', 'Horozontal assemblies;Fire',\n",
       "       'Through Penedtrations', 'Fire Stop System',\n",
       "       'Fire-resistance rating', 'Door Opening Force',\n",
       "       'Failed to comply w PRMT terms', 'Design/construction of vent.',\n",
       "       'Metal Chimeys', 'Interior Enviroment',\n",
       "       'Natural Lighting-Habitable Room other that kitchen - Window that admits light from outdoors equal in area to no less that 8% of entire fl area in that room.',\n",
       "       'Grade Level - More that 1/2 of floor to ceiling height is below average grade of adjoining ground.',\n",
       "       'Maint. of Areas Free from Garbage & Rubbish(Units) - Occupantof any dwelling unit shall be responsible for maintaining in a clean and sanitary condition and free of garbage, rubbish, other filth or causes of sickness that part of the dwelling which he excusively occupies or controls.',\n",
       "       'Referenced Codes & Standards', 'Electrical Work w/out Permit',\n",
       "       'Non-Absorbent Surfaces - A non-absorbent floor surface of a bathroom, kitchen and pantry.',\n",
       "       'Use of Lead Paint Prohibited - No paint that contains lead shall be used.',\n",
       "       'Metering of Electricity, Gas and Water - Owner shall provide Electricity and Gas, or letting agreement that payment is by the occupant',\n",
       "       'Rooves and drainage', 'Illegal dumping 1-5 cuyd.',\n",
       "       'Conditions Deemed to Endanger or Impair Health or Safety - Failure to provide adequate exits, or the obstruction of any exit, passageway or common area caused by any object, including garbage or trash, which prevents egress in case of an emergency 105 CMR 410.450, 410.451 and 410.452.',\n",
       "       'Conditions Deemed to Endanger or Impair Health or Safety - Failure to comply with any provisions of 105CMR 410.600, 410.601, 410.602 which may provide a food source or harborage for rodents, insects or other pests or otherwise contribute to accidents or to the creation or spread of disease.',\n",
       "       'Conditions Deemed to Endanger or Impair Health or Safety - Roof, foundation, or other structural defects that may expose the occupant or anyone else to fire, burns, shock, accident or other dangers or impairment to health or safety.',\n",
       "       'Smoke Detectors & Carbon Monoxide Alarms - Board of Health shall not impose additional requirements if local fire dpmt found dwelling to be adequately equipped.',\n",
       "       'Heating Facilities - Portable space heaters, any similar heaters having a barometric fed fuel control, as well as the type of heating appliance adapted for burning kerosene, shall not be used and shall not meet the requirements.',\n",
       "       'Work without permit',\n",
       "       'Storage of Garbage & Rubbish - The occupants of each dwelling, dwelling unit, and rooming unit shall be responsible for the proper placement of his garbage and rubbish in the receptacles required in 105 CMR 410.600C',\n",
       "       'Requirements.', 'Workmanship', 'Site Plan',\n",
       "       'Drainage System - Owner shall provide a sanitary drainage system connected to the public sewerage system.',\n",
       "       'Failure to call for req Insp.', 'Certificate of Inspection',\n",
       "       'Occupants Installation/Maintenance Responsibility - Occupant shall install in accordance with all acceptable codes plumbing, gas fitting and electrical; and maintain',\n",
       "       'Smoke Detectors', 'Revocation of Certificate', 'Revocation of CoO',\n",
       "       'Fire Resistance; Rated Walls', 'Means of Egress Illumination',\n",
       "       'Exit Access', 'Application for Permit', 'Deteriorating Agents',\n",
       "       'Electrical Connections', 'Uses not permitted', 'Seperation Walls',\n",
       "       'Unsafe bldg&equip.', 'Shopping Cart - 2',\n",
       "       'Electrical outlets/Light Fixture-kitchen - 1  electric light fixture; and 2 wall-type outlets located in convenient locations.',\n",
       "       'Storage of Garbage & Rubbish - Plastic bags shall be used to store garbage or mixed garbage or rubbish only, if used as a liner in watertight receptacles with tight-fitting covers as required in Regulation 410.600A',\n",
       "       'Maint. of Areas Free from Garbage & Rubbish - Dwelling that contains 3 units or less, occ shall be responsible for maintaining in a clean & sanitary condition, free of garbage & filth the stairways leading/landing adjacent to his unit if.',\n",
       "       'Clear Width', 'Exit Continuity', 'Failure to remove or make',\n",
       "       'Improper Electrical Repair', 'Unsafe & Dangerous',\n",
       "       'Non-Absorbent Surfaces - A non-absorbent wall surface of a bathroom up to 4 ft; shower compartment no less than 6 ft.',\n",
       "       'Conditions Deemed to Endanger or Impair Health or Safety - The presence of leadbased paint on a dwelling or dwelling unit in violation of 105 CMR 460.000: Lead Poisoning Prevention and Control.',\n",
       "       'Specialized codes',\n",
       "       'Conditions Deemed to Endanger or Impair Health or Safety - Failure to provide a supply of water sufficient in quantity, pressure and temperature, both hot and cold, to meet the ordinary needs of the occupant in accordance with 105 CMR 410.180 and 410.190 for a period of 24 hours or longer.',\n",
       "       'Operational Constraints', 'Illegal dumping 5+ cubic yd',\n",
       "       'Plumbing Connections - Toilet shall be connected to water distribution system and  sanitary drainage system.',\n",
       "       'Collection of Garbage & Rubbish - Owner of any dwelling that contains 3 or more dwelling units, rooming house, and the occ. of any other unit shall be responsible for the final collection or ultimate disposal or incineration of garbage and rubbish by means of regular municipal Collection Sys.',\n",
       "       'Hearing Notice',\n",
       "       'Weathertight Structual Elements - Exterior/interior, walls, floors, ceilings, cracks and spaces are caulked and filled to prevent infiltration of exterior air or moisture.',\n",
       "       'Inspection Upon Request', 'Minimum Number of Exits',\n",
       "       'Any structure for swimming', 'Flexible Metal Conduit',\n",
       "       'Reg. of Construction Hour', 'Disconnecting Means Service',\n",
       "       'Conditions Deemed to Endanger or Impair Health or Safety - Failure to provide heat as required by 105 CMR 410.201 or improper venting or use of a space heater or water heater as prohibited by 105 CMR 410.200(B) and 410.202',\n",
       "       'Conditions Deemed to Endanger or Impair Health or Safety - Shutoff and/or failure to restore electricity, gas or water.',\n",
       "       'Conditions Deemed to Endanger or Impair Health or Safety - Failure to provide the electrical facilities required by 105 CMR 410.250(B), 410.251(A), 410.253 and the lighting in common area required by 105 CMR 410.254.',\n",
       "       'Electrical Service Conduit', 'Occupancy', 'Fire Walls',\n",
       "       'International Mechanical Code', 'Permits to perform gas fitting',\n",
       "       'Information on Documentation', 'Work Performed Over Time',\n",
       "       'Mass. State Electrical Code', 'Access to Public Way',\n",
       "       'Provisions of Oil - Owner shall provide oil for heating/hot water unless a seperate tank serves that unit.',\n",
       "       'Maintain vacant/foreclose prop', 'Testing an Identification',\n",
       "       'Portable fire extinguishers', 'Unfit for Human Occupancy',\n",
       "       'Elec. Equip. & Connections', 'Securing and Supporting',\n",
       "       'Openings to be closed.', 'Not Located in Bathrooms',\n",
       "       'Egress Maintenance', 'Boxes, Where Required',\n",
       "       'Automatic Sprinkler System',\n",
       "       'Ceiling Height - Room not considered habitable if more than 3/4 of floor to Ceiling height is less than 7 ft.',\n",
       "       'Vacant Property (Ch 111-122)', 'Large building recycling - 2',\n",
       "       'Conditions Deemed to Endanger or Impair Health or Safety - Failure to install electrical, plumbing, heating and gasburning facilities in accordance with accepted standards or failure to maintain such facilities as are required by 105CMR 410.351 & 410.352.',\n",
       "       'Conditions Deemed to Endanger or Impair Health or Safety - Failure to provide a smoke detector or carbon monoxide alarm required by 105 CMR 410.482.',\n",
       "       'Exit Enclosures',\n",
       "       'Light fixtures other that in Habitable rooms or kitchen - Owner shall provide working incandescent light bulbs or fluorescent tubes in all required light fixtures in all common areas.',\n",
       "       'Hazard Materials', 'Illegal dumping park',\n",
       "       'Metering of Electricity, Gas and Water -Occupant Shall have access to any water submetering to ensure it is functioning properly.',\n",
       "       'Modification fire protection', 'Mounting & Cooling Equipment',\n",
       "       'Room Area', 'Egress',\n",
       "       'Minimum square footage (Sleeping) -Room for sleeping, at least 70 sq. ft. of fl space; if more than 1 occ. at least 50 sq. ft.',\n",
       "       'Illegal dumping Const debris', 'Space About Electrical Service',\n",
       "       'Service Size & Rating', 'Pull & Junction Box',\n",
       "       'Metering of Electricity, Gas and Water - If required by owner, Electrical or Gas maybe be metered through meters serving multiple units.',\n",
       "       'Ramps', 'Board Up Property (Ch 139-3A)',\n",
       "       'Dwellings Unfit for Human Habitation; Hearing; Condemnation; Order to Vacate; Demolition',\n",
       "       'Principle #18', 'Compliance with Permit', 'Littering',\n",
       "       'Pedestrian Protection', 'Walkways', 'Personal Doors',\n",
       "       'Integrity of elec. equipment', 'Uses not Permitted',\n",
       "       'Working Without a Permit', ' Mass. State Plumbing Code',\n",
       "       'Other Laws', 'Failure to call Inspections',\n",
       "       'Hours operation, nonconforming', 'Support Wires', 'Type NM Cable',\n",
       "       'Wiring Integrity', 'Unused openings', 'Integrity of Elec. Equip.',\n",
       "       'Interrupting Rating', 'Hand Rails', 'Applications & Permits',\n",
       "       'Supervision of Electricians', 'Fire  & Smoke Alarm Systems',\n",
       "       'Street Numbers', 'Expiration', 'Exit passageways',\n",
       "       'Municipal Bylaws or Ordinances', 'Enforcement', 'Arcing Parts',\n",
       "       'Prohibited Locations', 'Abutting a public street', 'I.S.S.U',\n",
       "       'Guarding of Live Ports', 'Liquid Storage Rooms',\n",
       "       'Circuit Intensity', 'Commercial Kitchen Hoods', 'Meter Tapping',\n",
       "       'Maintenance Access Features', 'Circuit Impedance',\n",
       "       'Wiring Methods', 'Corridor Obstruction',\n",
       "       'Monitoring Fire Alarm Systems', 'Illegal dumping 5 cubic yd.',\n",
       "       'Portable Fire Extinguishers', 'Means of egress doors',\n",
       "       'Fire Separation Assemblies', 'City Zoning Code',\n",
       "       'Means of egress;Turnstiles', 'Crying out wares - 3',\n",
       "       'Handrails/safety', 'Electrical equipment integrity',\n",
       "       'Uses Not Permitted', 'Exposed work', 'Live loads(roof)',\n",
       "       'Imbedded posts&poles', 'Fire Alarm Systems',\n",
       "       'Carbon monoxide alarms', 'Fire Wall/Fire Resistance',\n",
       "       'Amended Constuction documanets', 'Waste Water',\n",
       "       'Sign: Zoning Code Art 11-2&sub', 'Fire Alarm Ent. Response',\n",
       "       'Minimum Requirements', 'Size and Rating',\n",
       "       'Illegally occupied prior to CO', 'Smoke alarm locations',\n",
       "       'No GFCI in Kithen', 'General Repairs', 'Pool barrier',\n",
       "       'STOP WORK ORDER', 'Unsafe Structures', 'Ungrounded Conducters',\n",
       "       'Means of Attachment', 'Construction Documents', 'Floor Surface',\n",
       "       'Handrails', 'Acoustical Ceiling Systems',\n",
       "       'Securing and supporting', 'Openings to be closed',\n",
       "       'Failure to Comply w Bldg Code', 'Examination,identify,install',\n",
       "       'Illegal vending: fruit', 'Protection of Pedestrians', 'Clearance',\n",
       "       'Locks and Latches (Gate)', 'Maintenance of Facilities',\n",
       "       'Temporary Wiring Methods', 'Failure to secure inspections',\n",
       "       'Egress thru Intervening Spaces', 'Hazrdous Means of Egress',\n",
       "       '2 Means of Egress Required', 'Rule 10', 'Wiring',\n",
       "       'On Premise Signs', 'Horizontal Clearances', 'Corridors',\n",
       "       'Effect of Non-Conforming Use', 'Mechanical Code',\n",
       "       'Unused Openings', 'Gates', 'Continuity', 'Elevator Lobbies',\n",
       "       'Integrity of', 'Means of Egress; Headroom',\n",
       "       'Dwelling unit branch circuits.', 'Common area branch circuits',\n",
       "       'Illegal dumping  vehicle:', 'Pull & Junction Boxes',\n",
       "       'Wiring Intensity', 'Installation, uses permitted',\n",
       "       'Guards Where Required', 'Water Accumulation',\n",
       "       'Objectionable Current', 'Damp or Wet Locations',\n",
       "       'Revocation of Permits', 'Design', 'Unsafe Building & Structures',\n",
       "       'Crying out wares- 1', 'Dead Load', '2011 Mass Elec. Code Rule 1',\n",
       "       'Maintenance/Fire Protection', 'Boxes Where Required',\n",
       "       'Mounting Elec. Equipment', 'Boston Zoning Code',\n",
       "       'Illegal dumping: Haz Waste', 'Bolt Locks',\n",
       "       'Failure to Comply w. Code', 'Bathrooms',\n",
       "       'Illegal Temporary Wiring', 'Mechanical', 'Signage', 'Repair',\n",
       "       'Fire Warning Systems', 'Carbon Monoxide Protection',\n",
       "       'Unsafe Mechanical Equipment', 'Arc-Flash Hazard Warning',\n",
       "       'Boxes Construct & Install', 'Fire Escape Affidavit',\n",
       "       'Overcurrent Protection', 'Fire Alarm & Detection',\n",
       "       'Other Inspections', 'Obstructions', 'Side Yard Requirements',\n",
       "       'Attachment', 'Grounding electrode conduction',\n",
       "       'Excessive Use of Ext. Cords', 'Removal/Making Structure Safe',\n",
       "       'Use & Occupancy', 'Unsafe Maintanence', 'Exterior Wall Envelope',\n",
       "       'Covers', 'False Statements', 'On-Site Presence of Supervisor',\n",
       "       'Violation penalties', 'Rem Dangerous/Abandoned Struct',\n",
       "       'Licensed Supervisor', 'Fire Partitions',\n",
       "       'Building Illegally Occupied', 'Hazardous Means of Egress',\n",
       "       'Electrical Rm Used for Storage', 'Elevated Electrical Room',\n",
       "       'Access to a Publicway', 'Acceptance Tests', 'Door Locks',\n",
       "       'Abusive Language In Solicitati', 'Outdoor Sale & Display',\n",
       "       'Penetrations & Joints', 'Remove/Making Safe Structure',\n",
       "       'Abandoned Cable', 'Carbon Monoxide Detectors',\n",
       "       'Guarding of live parts', 'Spaces About Elect. Equip.',\n",
       "       'Application for permit', 'Buildings hereafter altered',\n",
       "       'Point of Attachment', 'Basements', 'Illegal dumping solid waste',\n",
       "       'Clearance on Buildings', 'Landings Required',\n",
       "       'Permit Secured by Owner', 'Services During Construction',\n",
       "       'Emergency Escape and Rescue Op', 'Fences', 'Exit Signs & Lights',\n",
       "       'Use of propelled novelty', 'Illegal Dumping (vehicle)'], dtype=object)"
      ]
     },
     "execution_count": 7,
     "metadata": {},
     "output_type": "execute_result"
    }
   ],
   "source": [
    "violations.Description.unique()"
   ]
  },
  {
   "cell_type": "code",
   "execution_count": 8,
   "metadata": {
    "collapsed": true,
    "deletable": true,
    "editable": true
   },
   "outputs": [],
   "source": [
    "# Find violations that include variations of \"trash\", \"dump\" or \"garbage\" in the description\n",
    "# Create an array of violation codes that correspond to such items"
   ]
  },
  {
   "cell_type": "code",
   "execution_count": 9,
   "metadata": {
    "collapsed": false,
    "deletable": true,
    "editable": true
   },
   "outputs": [],
   "source": [
    "garbagecodes = violations[(violations['Description'].str.contains('garbage')) |\n",
    "                          (violations['Description'].str.contains('trash')) | \n",
    "                          (violations['Description'].str.contains('Garbage')) |\n",
    "                          (violations['Description'].str.contains('Trash')) |\n",
    "                          (violations['Description'].str.contains('dumping')) |\n",
    "                          (violations['Description'].str.contains('Dumping'))].Code.unique()"
   ]
  },
  {
   "cell_type": "code",
   "execution_count": 10,
   "metadata": {
    "collapsed": true,
    "deletable": true,
    "editable": true
   },
   "outputs": [],
   "source": [
    "# Save the items from the array to a blank list"
   ]
  },
  {
   "cell_type": "code",
   "execution_count": 11,
   "metadata": {
    "collapsed": false,
    "deletable": true,
    "editable": true
   },
   "outputs": [],
   "source": [
    "garbagecodelist = []\n",
    "for item in garbagecodes:\n",
    "    garbagecodelist.append(item)"
   ]
  },
  {
   "cell_type": "code",
   "execution_count": 12,
   "metadata": {
    "collapsed": true,
    "deletable": true,
    "editable": true
   },
   "outputs": [],
   "source": [
    "# Remove several codes from the list, since they probably don't pertain to moving activity\n",
    "# Improper storage trash: com (2)\n",
    "# Illegal dumping park (10a)\n",
    "# Illegal dumping Const debris (12)\n",
    "# Illegal dumping: Haz Waste (13)\n",
    "# Illegal Dumping (vehicle) (36)"
   ]
  },
  {
   "cell_type": "code",
   "execution_count": 13,
   "metadata": {
    "collapsed": false,
    "deletable": true,
    "editable": true
   },
   "outputs": [],
   "source": [
    "garbagecodelist.remove('2')\n",
    "garbagecodelist.remove('10a')\n",
    "garbagecodelist.remove('12')\n",
    "garbagecodelist.remove('13')\n",
    "garbagecodelist.remove('36')"
   ]
  },
  {
   "cell_type": "code",
   "execution_count": 14,
   "metadata": {
    "collapsed": true,
    "deletable": true,
    "editable": true
   },
   "outputs": [],
   "source": [
    "# Create subset of violations that pertain to garbage"
   ]
  },
  {
   "cell_type": "code",
   "execution_count": 15,
   "metadata": {
    "collapsed": false,
    "deletable": true,
    "editable": true
   },
   "outputs": [],
   "source": [
    "garbage = violations[violations['Code'].isin(garbagecodelist)]"
   ]
  },
  {
   "cell_type": "code",
   "execution_count": 16,
   "metadata": {
    "collapsed": true,
    "deletable": true,
    "editable": true
   },
   "outputs": [],
   "source": [
    "# Create subset of garbage violations recorded during move-in week\n",
    "# Save to CSV for mapping later"
   ]
  },
  {
   "cell_type": "code",
   "execution_count": 17,
   "metadata": {
    "collapsed": true,
    "deletable": true,
    "editable": true
   },
   "outputs": [],
   "source": [
    "garbagemoveinweek = garbage[(garbage['Status_DTTM'] >= pd.datetime(2016, 8, 29)) &\n",
    "                (garbage['Status_DTTM'] < pd.datetime(2016, 9, 5))]"
   ]
  },
  {
   "cell_type": "code",
   "execution_count": 18,
   "metadata": {
    "collapsed": true,
    "deletable": true,
    "editable": true
   },
   "outputs": [],
   "source": [
    "garbagemoveinweek.to_csv('C:/Data/AnalyzeBoston/data/cepviolations_garbage_moveinweek_2016.csv', index=False)"
   ]
  },
  {
   "cell_type": "code",
   "execution_count": 19,
   "metadata": {
    "collapsed": true,
    "deletable": true,
    "editable": true
   },
   "outputs": [],
   "source": [
    "# Plot garbage-related violations in 2016 by week"
   ]
  },
  {
   "cell_type": "code",
   "execution_count": 20,
   "metadata": {
    "collapsed": true
   },
   "outputs": [],
   "source": [
    "garbage2016 = garbage[garbage['Status_DTTM'].dt.year == 2016]"
   ]
  },
  {
   "cell_type": "code",
   "execution_count": 21,
   "metadata": {
    "collapsed": false
   },
   "outputs": [],
   "source": [
    "garbage2016 = garbage2016.set_index('Status_DTTM')"
   ]
  },
  {
   "cell_type": "code",
   "execution_count": 22,
   "metadata": {
    "collapsed": false
   },
   "outputs": [
    {
     "data": {
      "text/plain": [
       "<matplotlib.text.Text at 0x8f69da0>"
      ]
     },
     "execution_count": 22,
     "metadata": {},
     "output_type": "execute_result"
    },
    {
     "data": {
      "image/png": "[encoded data removed]",
      "text/plain": [
       "<matplotlib.figure.Figure at 0x12cbe400>"
      ]
     },
     "metadata": {},
     "output_type": "display_data"
    }
   ],
   "source": [
    "ax = garbage2016.resample('W').size().plot(title=\"Code enforcement violations by week (2016)\")\n",
    "ax.set_xlabel('Week')"
   ]
  }
 ],
 "metadata": {
  "kernelspec": {
   "display_name": "Python 2",
   "language": "python",
   "name": "python2"
  },
  "language_info": {
   "codemirror_mode": {
    "name": "ipython",
    "version": 2
   },
   "file_extension": ".py",
   "mimetype": "text/x-python",
   "name": "python",
   "nbconvert_exporter": "python",
   "pygments_lexer": "ipython2",
   "version": "2.7.11"
  }
 },
 "nbformat": 4,
 "nbformat_minor": 2
}
